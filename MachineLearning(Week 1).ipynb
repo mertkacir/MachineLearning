{
 "cells": [
  {
   "cell_type": "code",
   "execution_count": 1,
   "id": "0469ae74",
   "metadata": {},
   "outputs": [
    {
     "name": "stdout",
     "output_type": "stream",
     "text": [
      "Hello World\n"
     ]
    }
   ],
   "source": [
    "deneme = \"Hello World\"\n",
    "print(deneme)"
   ]
  },
  {
   "cell_type": "code",
   "execution_count": 6,
   "id": "e22654d5",
   "metadata": {},
   "outputs": [
    {
     "name": "stdout",
     "output_type": "stream",
     "text": [
      "First entry:  Hibiscus\n",
      "Last entry:  Orchid\n",
      "First 3 entries:  ['Hibiscus', 'Rose', 'Daisy']\n",
      "['Hibiscus', 'Rose', 'Daisy', 'Lotus', 'Orchid', 'Lavender']\n",
      "['Hibiscus', 'Rose', 'Daisy', 'Lotus', 'Orchid']\n",
      "5\n",
      "<class 'list'>\n"
     ]
    }
   ],
   "source": [
    "flowers = [\"Hibiscus\",\"Rose\",\"Daisy\",\"Lotus\",\"Orchid\"]\n",
    "print(\"First entry: \",flowers[0])\n",
    "print(\"Last entry: \",flowers[-1])\n",
    "print(\"First 3 entries: \",flowers[:3])\n",
    "flowers.append(\"Lavender\")\n",
    "print(flowers)\n",
    "flowers.remove(\"Lavender\")\n",
    "print(flowers)\n",
    "print(len(flowers))\n",
    "print(type(flowers))"
   ]
  },
  {
   "cell_type": "code",
   "execution_count": 14,
   "id": "1f384f3e",
   "metadata": {},
   "outputs": [
    {
     "name": "stdout",
     "output_type": "stream",
     "text": [
      "2\n",
      "5\n",
      "8\n",
      "11\n",
      "14\n",
      "17\n",
      "20\n",
      "23\n",
      "26\n",
      "29\n"
     ]
    },
    {
     "data": {
      "text/plain": [
       "(191, 1, 49)"
      ]
     },
     "execution_count": 14,
     "metadata": {},
     "output_type": "execute_result"
    }
   ],
   "source": [
    "for x in range(2, 30, 3):\n",
    "  print(x)\n",
    "\n",
    "liste = [1,5,8,9,13,16,26,27,37,49]\n",
    "sum(liste),min(liste),max(liste)\n"
   ]
  },
  {
   "cell_type": "code",
   "execution_count": 20,
   "id": "a8f2ed60",
   "metadata": {},
   "outputs": [
    {
     "name": "stdout",
     "output_type": "stream",
     "text": [
      "B\n"
     ]
    }
   ],
   "source": [
    "    score = 85\n",
    "    if score >= 90:\n",
    "        grade = \"A\"\n",
    "    elif score >= 80 and score <= 89:\n",
    "        grade = \"B\"\n",
    "    elif score >= 70 and score <= 79:\n",
    "        grade = \"C\"\n",
    "    elif score >= 60 and score <= 69:\n",
    "        grade = \"D\"\n",
    "    else:\n",
    "        grade = \"F\"\n",
    "    print(grade)"
   ]
  },
  {
   "cell_type": "code",
   "execution_count": 22,
   "id": "720bb8db",
   "metadata": {},
   "outputs": [
    {
     "name": "stdout",
     "output_type": "stream",
     "text": [
      "4\n",
      "3\n",
      "2\n",
      "1\n"
     ]
    }
   ],
   "source": [
    "n = 5\n",
    "while (n > 1):\n",
    "    n = n-1\n",
    "    print(n)"
   ]
  },
  {
   "cell_type": "code",
   "execution_count": 23,
   "id": "64987027",
   "metadata": {},
   "outputs": [
    {
     "data": {
      "text/plain": [
       "50"
      ]
     },
     "execution_count": 23,
     "metadata": {},
     "output_type": "execute_result"
    }
   ],
   "source": [
    "def mult_by_five(x):\n",
    "    return 5 * x\n",
    "mult_by_five(10)"
   ]
  },
  {
   "cell_type": "code",
   "execution_count": 30,
   "id": "c3b21e9e",
   "metadata": {},
   "outputs": [
    {
     "name": "stdout",
     "output_type": "stream",
     "text": [
      "<class 'str'>\n",
      "dict_values(['Student', 'Housewife', 'Doctor', 'Retired'])\n",
      "Positive\n"
     ]
    }
   ],
   "source": [
    "dictionary = {\"Mert\":\"Student\", \"Fatma\":\"Housewife\", \"Ömer\":\"Doctor\", \"Ethem\":\"Retired\"}\n",
    "dictionary[\"Mert\"]\n",
    "print(type(dictionary[\"Mert\"]))\n",
    "print(dictionary.values())\n",
    "keys = dictionary.keys()\n",
    "if \"Mert\" in keys:\n",
    "    print(\"Positive\")\n",
    "else:\n",
    "    print(\"Negative\")\n",
    "\n"
   ]
  },
  {
   "cell_type": "code",
   "execution_count": null,
   "id": "fe821fd5",
   "metadata": {},
   "outputs": [],
   "source": []
  }
 ],
 "metadata": {
  "kernelspec": {
   "display_name": "Python 3 (ipykernel)",
   "language": "python",
   "name": "python3"
  },
  "language_info": {
   "codemirror_mode": {
    "name": "ipython",
    "version": 3
   },
   "file_extension": ".py",
   "mimetype": "text/x-python",
   "name": "python",
   "nbconvert_exporter": "python",
   "pygments_lexer": "ipython3",
   "version": "3.9.13"
  }
 },
 "nbformat": 4,
 "nbformat_minor": 5
}
