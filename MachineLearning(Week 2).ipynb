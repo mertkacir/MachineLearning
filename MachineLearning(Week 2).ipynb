{
 "cells": [
  {
   "cell_type": "code",
   "execution_count": 1,
   "id": "e28b55c0",
   "metadata": {},
   "outputs": [],
   "source": [
    "import numpy as np"
   ]
  },
  {
   "cell_type": "code",
   "execution_count": 2,
   "id": "ac7ef0e8",
   "metadata": {},
   "outputs": [
    {
     "name": "stdout",
     "output_type": "stream",
     "text": [
      "[12 21 35 36 39]\n"
     ]
    }
   ],
   "source": [
    "array = np.array([12,21,35,36,39])\n",
    "print(array)"
   ]
  },
  {
   "cell_type": "code",
   "execution_count": 3,
   "id": "e9fbac1a",
   "metadata": {},
   "outputs": [
    {
     "name": "stdout",
     "output_type": "stream",
     "text": [
      "(10,)\n"
     ]
    }
   ],
   "source": [
    "array_new = np.array([23,45,56,87,21,13,24,34,64,99])\n",
    "print(array_new.shape)"
   ]
  },
  {
   "cell_type": "code",
   "execution_count": 6,
   "id": "327a026a",
   "metadata": {},
   "outputs": [
    {
     "name": "stdout",
     "output_type": "stream",
     "text": [
      "[[23 45 56 87 21]\n",
      " [13 24 34 64 99]]\n"
     ]
    }
   ],
   "source": [
    "x = array_new.reshape(2,5)\n",
    "print(x)"
   ]
  },
  {
   "cell_type": "code",
   "execution_count": 7,
   "id": "bdf8bddd",
   "metadata": {},
   "outputs": [
    {
     "name": "stdout",
     "output_type": "stream",
     "text": [
      "Matrix Shape:  (2, 5)\n"
     ]
    }
   ],
   "source": [
    "print(\"Matrix Shape: \",x.shape)"
   ]
  },
  {
   "cell_type": "code",
   "execution_count": 8,
   "id": "612647e2",
   "metadata": {},
   "outputs": [
    {
     "name": "stdout",
     "output_type": "stream",
     "text": [
      "Dimension of the Matrix:  2\n"
     ]
    }
   ],
   "source": [
    "print(\"Dimension of the Matrix: \",x.ndim)"
   ]
  },
  {
   "cell_type": "code",
   "execution_count": 9,
   "id": "432f62c7",
   "metadata": {},
   "outputs": [
    {
     "name": "stdout",
     "output_type": "stream",
     "text": [
      "Size of the Matrix:  10\n"
     ]
    }
   ],
   "source": [
    "print(\"Size of the Matrix: \",x.size)"
   ]
  },
  {
   "cell_type": "code",
   "execution_count": 10,
   "id": "c542f97f",
   "metadata": {},
   "outputs": [
    {
     "name": "stdout",
     "output_type": "stream",
     "text": [
      "Type of the Matrix:  <class 'numpy.ndarray'>\n"
     ]
    }
   ],
   "source": [
    "print(\"Type of the Matrix: \",type(x))"
   ]
  },
  {
   "cell_type": "code",
   "execution_count": 16,
   "id": "56654277",
   "metadata": {},
   "outputs": [],
   "source": [
    "array3 = np.array([[2,4,6,8,10],[10,12,14,16,18]])"
   ]
  },
  {
   "cell_type": "code",
   "execution_count": 17,
   "id": "eb6c73bf",
   "metadata": {},
   "outputs": [
    {
     "name": "stdout",
     "output_type": "stream",
     "text": [
      "[[ 2  4  6  8 10]\n",
      " [10 12 14 16 18]]\n"
     ]
    }
   ],
   "source": [
    "print(array3)"
   ]
  },
  {
   "cell_type": "code",
   "execution_count": 18,
   "id": "6a70157c",
   "metadata": {},
   "outputs": [
    {
     "data": {
      "text/plain": [
       "(2, 5)"
      ]
     },
     "execution_count": 18,
     "metadata": {},
     "output_type": "execute_result"
    }
   ],
   "source": [
    "array3.shape"
   ]
  },
  {
   "cell_type": "code",
   "execution_count": 19,
   "id": "525eaaf5",
   "metadata": {},
   "outputs": [],
   "source": [
    "zeros = np.zeros((2,2))"
   ]
  },
  {
   "cell_type": "code",
   "execution_count": 20,
   "id": "1f4628e9",
   "metadata": {},
   "outputs": [
    {
     "name": "stdout",
     "output_type": "stream",
     "text": [
      "[[0. 0.]\n",
      " [0. 0.]]\n"
     ]
    }
   ],
   "source": [
    "print(zeros)"
   ]
  },
  {
   "cell_type": "code",
   "execution_count": 21,
   "id": "68a902e1",
   "metadata": {},
   "outputs": [
    {
     "name": "stdout",
     "output_type": "stream",
     "text": [
      "[[1. 1.]]\n"
     ]
    }
   ],
   "source": [
    "ones = np.ones((1,2))\n",
    "print(ones)"
   ]
  },
  {
   "cell_type": "code",
   "execution_count": 23,
   "id": "99b62788",
   "metadata": {},
   "outputs": [
    {
     "data": {
      "text/plain": [
       "array([[6.23042070e-307, 4.67296746e-307, 1.69121096e-306,\n",
       "        1.20160575e-306],\n",
       "       [8.34441742e-308, 1.78022342e-306, 6.23058028e-307,\n",
       "        9.79107872e-307],\n",
       "       [6.89807188e-307, 7.56594375e-307, 6.23060065e-307,\n",
       "        1.78021527e-306],\n",
       "       [8.34454050e-308, 1.11261027e-306, 1.15706896e-306,\n",
       "        1.33512173e-306]])"
      ]
     },
     "execution_count": 23,
     "metadata": {},
     "output_type": "execute_result"
    }
   ],
   "source": [
    "np.empty((4,4))"
   ]
  },
  {
   "cell_type": "code",
   "execution_count": 24,
   "id": "5fc56413",
   "metadata": {},
   "outputs": [
    {
     "data": {
      "text/plain": [
       "array([ 1,  4,  7, 10, 13, 16, 19])"
      ]
     },
     "execution_count": 24,
     "metadata": {},
     "output_type": "execute_result"
    }
   ],
   "source": [
    "np.arange(1,21,3)"
   ]
  },
  {
   "cell_type": "code",
   "execution_count": 25,
   "id": "890b6ee7",
   "metadata": {},
   "outputs": [
    {
     "data": {
      "text/plain": [
       "array([2.  , 2.25, 2.5 , 2.75, 3.  ])"
      ]
     },
     "execution_count": 25,
     "metadata": {},
     "output_type": "execute_result"
    }
   ],
   "source": [
    "np.linspace(2.0,3.0,5)"
   ]
  },
  {
   "cell_type": "code",
   "execution_count": 26,
   "id": "6fab9009",
   "metadata": {},
   "outputs": [
    {
     "name": "stdout",
     "output_type": "stream",
     "text": [
      "[10 15 20]\n",
      "[ 8  9 10]\n",
      "[  1  27 125]\n"
     ]
    }
   ],
   "source": [
    "a = np.array([2,4,6])\n",
    "b = np.array([1,3,5])\n",
    "c = np.array([7,8,9])\n",
    "print(a+b+c)\n",
    "print(a-b+c)\n",
    "print(b**3)"
   ]
  },
  {
   "cell_type": "code",
   "execution_count": 29,
   "id": "994c523e",
   "metadata": {},
   "outputs": [
    {
     "name": "stdout",
     "output_type": "stream",
     "text": [
      "[2, 4, 6, 8, 10]\n",
      "[1 3 5 7 9]\n"
     ]
    }
   ],
   "source": [
    "list = [2,4,6,8,10]\n",
    "array = np.array([1,3,5,7,9])\n",
    "print(list)\n",
    "print(array)"
   ]
  },
  {
   "cell_type": "code",
   "execution_count": 30,
   "id": "b5d492f3",
   "metadata": {},
   "outputs": [],
   "source": [
    "x = np.array([2,4,6,8,10])"
   ]
  },
  {
   "cell_type": "code",
   "execution_count": 31,
   "id": "35cc9cfa",
   "metadata": {},
   "outputs": [],
   "source": [
    "a = x\n",
    "b = x"
   ]
  },
  {
   "cell_type": "code",
   "execution_count": 34,
   "id": "35af6669",
   "metadata": {},
   "outputs": [
    {
     "name": "stdout",
     "output_type": "stream",
     "text": [
      "[2 4 6 8 9] [2 4 6 8 9] [2 4 6 8 9]\n"
     ]
    }
   ],
   "source": [
    "b[-1] = 9\n",
    "print(x,a,b)"
   ]
  },
  {
   "cell_type": "code",
   "execution_count": 35,
   "id": "bce393b5",
   "metadata": {},
   "outputs": [],
   "source": [
    "a[0] = 1"
   ]
  },
  {
   "cell_type": "code",
   "execution_count": 36,
   "id": "2d0f812f",
   "metadata": {},
   "outputs": [
    {
     "name": "stdout",
     "output_type": "stream",
     "text": [
      "[1 4 6 8 9]\n"
     ]
    }
   ],
   "source": [
    "d = a.copy()\n",
    "print(d)"
   ]
  },
  {
   "cell_type": "code",
   "execution_count": 37,
   "id": "e72cf4b7",
   "metadata": {},
   "outputs": [
    {
     "data": {
      "text/plain": [
       "array([1, 4, 6, 8, 9])"
      ]
     },
     "execution_count": 37,
     "metadata": {},
     "output_type": "execute_result"
    }
   ],
   "source": [
    "d"
   ]
  },
  {
   "cell_type": "code",
   "execution_count": 38,
   "id": "fa58cfe9",
   "metadata": {},
   "outputs": [
    {
     "data": {
      "text/plain": [
       "array([1, 4, 6])"
      ]
     },
     "execution_count": 38,
     "metadata": {},
     "output_type": "execute_result"
    }
   ],
   "source": [
    "x[0:3]"
   ]
  },
  {
   "cell_type": "code",
   "execution_count": 41,
   "id": "bd2cc311",
   "metadata": {},
   "outputs": [
    {
     "data": {
      "text/plain": [
       "array([9, 8, 6, 4, 1])"
      ]
     },
     "execution_count": 41,
     "metadata": {},
     "output_type": "execute_result"
    }
   ],
   "source": [
    "x[::-1]"
   ]
  },
  {
   "cell_type": "code",
   "execution_count": 42,
   "id": "ea0a75cb",
   "metadata": {},
   "outputs": [
    {
     "data": {
      "text/plain": [
       "array([[ 2,  4,  6,  8, 10],\n",
       "       [ 1,  3,  5,  7,  9]])"
      ]
     },
     "execution_count": 42,
     "metadata": {},
     "output_type": "execute_result"
    }
   ],
   "source": [
    "k = np.array([[2,4,6,8,10],[1,3,5,7,9]])\n",
    "k"
   ]
  },
  {
   "cell_type": "code",
   "execution_count": 45,
   "id": "7c51d54f",
   "metadata": {},
   "outputs": [
    {
     "name": "stdout",
     "output_type": "stream",
     "text": [
      "2\n"
     ]
    }
   ],
   "source": [
    "print(k[0,0])"
   ]
  },
  {
   "cell_type": "code",
   "execution_count": 46,
   "id": "f6acfe43",
   "metadata": {},
   "outputs": [
    {
     "name": "stdout",
     "output_type": "stream",
     "text": [
      "[6 5]\n"
     ]
    }
   ],
   "source": [
    "print(k[:,2])"
   ]
  },
  {
   "cell_type": "code",
   "execution_count": 47,
   "id": "2d28b145",
   "metadata": {},
   "outputs": [
    {
     "data": {
      "text/plain": [
       "array([1, 3, 5])"
      ]
     },
     "execution_count": 47,
     "metadata": {},
     "output_type": "execute_result"
    }
   ],
   "source": [
    "k[1,:3]"
   ]
  },
  {
   "cell_type": "code",
   "execution_count": 48,
   "id": "351d6c1a",
   "metadata": {},
   "outputs": [
    {
     "data": {
      "text/plain": [
       "array([3, 5])"
      ]
     },
     "execution_count": 48,
     "metadata": {},
     "output_type": "execute_result"
    }
   ],
   "source": [
    "k[1,1:3]"
   ]
  },
  {
   "cell_type": "code",
   "execution_count": 49,
   "id": "b0cd5828",
   "metadata": {},
   "outputs": [
    {
     "data": {
      "text/plain": [
       "array([1, 3, 5, 7, 9])"
      ]
     },
     "execution_count": 49,
     "metadata": {},
     "output_type": "execute_result"
    }
   ],
   "source": [
    "k[-1,:]"
   ]
  },
  {
   "cell_type": "code",
   "execution_count": 50,
   "id": "0ee2e810",
   "metadata": {},
   "outputs": [
    {
     "data": {
      "text/plain": [
       "array([1, 3, 5])"
      ]
     },
     "execution_count": 50,
     "metadata": {},
     "output_type": "execute_result"
    }
   ],
   "source": [
    "k[-1,:3]"
   ]
  },
  {
   "cell_type": "code",
   "execution_count": 51,
   "id": "5bb0e8b8",
   "metadata": {},
   "outputs": [
    {
     "data": {
      "text/plain": [
       "array([10,  9])"
      ]
     },
     "execution_count": 51,
     "metadata": {},
     "output_type": "execute_result"
    }
   ],
   "source": [
    "k[:,-1]"
   ]
  },
  {
   "cell_type": "code",
   "execution_count": 52,
   "id": "b3a4a269",
   "metadata": {},
   "outputs": [],
   "source": [
    "k = k.ravel()"
   ]
  },
  {
   "cell_type": "code",
   "execution_count": 53,
   "id": "712c8ce0",
   "metadata": {},
   "outputs": [
    {
     "name": "stdout",
     "output_type": "stream",
     "text": [
      "[ 2  4  6  8 10  1  3  5  7  9]\n"
     ]
    }
   ],
   "source": [
    "print(k)"
   ]
  },
  {
   "cell_type": "code",
   "execution_count": 54,
   "id": "00ee77a7",
   "metadata": {},
   "outputs": [
    {
     "data": {
      "text/plain": [
       "array([ 2,  4,  6,  8, 10,  1,  3,  5,  7,  9])"
      ]
     },
     "execution_count": 54,
     "metadata": {},
     "output_type": "execute_result"
    }
   ],
   "source": [
    "k.T"
   ]
  },
  {
   "cell_type": "code",
   "execution_count": null,
   "id": "88934bec",
   "metadata": {},
   "outputs": [],
   "source": []
  }
 ],
 "metadata": {
  "kernelspec": {
   "display_name": "Python 3 (ipykernel)",
   "language": "python",
   "name": "python3"
  },
  "language_info": {
   "codemirror_mode": {
    "name": "ipython",
    "version": 3
   },
   "file_extension": ".py",
   "mimetype": "text/x-python",
   "name": "python",
   "nbconvert_exporter": "python",
   "pygments_lexer": "ipython3",
   "version": "3.9.13"
  }
 },
 "nbformat": 4,
 "nbformat_minor": 5
}
